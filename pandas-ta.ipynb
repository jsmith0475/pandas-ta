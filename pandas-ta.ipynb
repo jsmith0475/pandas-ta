{
 "cells": [
  {
   "cell_type": "markdown",
   "id": "951b63f9-f38f-4dde-9e7d-08b01841b6fc",
   "metadata": {},
   "source": [
    "# Using Pandas-TA for technical indicators\n",
    "\n",
    "https://www.youtube.com/watch?v=lij39o0_L2I&t=51s\n",
    "\n",
    "YFinance\n",
    "https://pypi.org/project/yfinance/\n",
    "\n",
    "Pandas-TA\n",
    "https://github.com/twopirllc/pandas-ta\n",
    "https://pypi.org/project/pandas-ta/\n",
    "\n",
    "Investopedia\n",
    "https://www.investopedia.com/articles/trading/07/adx-trend-indicator.asp\n"
   ]
  },
  {
   "cell_type": "code",
   "execution_count": 1,
   "id": "73a0727f-148a-434d-9864-3259aa6c5673",
   "metadata": {},
   "outputs": [],
   "source": [
    "import pandas as pd\n",
    "import pandas_ta as ta\n",
    "import ccxt, yfinance\n"
   ]
  },
  {
   "cell_type": "code",
   "execution_count": 2,
   "id": "ba4a4e3c-8960-4d8e-a526-5095aa1a339b",
   "metadata": {},
   "outputs": [],
   "source": [
    "exchange = ccxt.binance()\n",
    "\n",
    "bars = exchange.fetch_ohlcv(\"BTC/USDT\", timeframe = \"5m\", limit = 500)"
   ]
  },
  {
   "cell_type": "code",
   "execution_count": 3,
   "id": "79116cd5-2382-4958-bf08-56c533b2c7d8",
   "metadata": {},
   "outputs": [
    {
     "name": "stdout",
     "output_type": "stream",
     "text": [
      "              time      open      high       low     close      volume\n",
      "0    1654124100000  29741.77  29752.37  29724.44  29747.16   121.78429\n",
      "1    1654124400000  29747.17  29791.05  29728.80  29791.05   172.84013\n",
      "2    1654124700000  29791.04  30074.95  29788.90  30057.13  1022.41863\n",
      "3    1654125000000  30057.12  30057.13  29912.42  29915.36   515.09812\n",
      "4    1654125300000  29915.36  29963.12  29808.68  29813.44   354.00828\n",
      "..             ...       ...       ...       ...       ...         ...\n",
      "495  1654272600000  29472.21  29497.23  29450.02  29493.65   151.84166\n",
      "496  1654272900000  29493.65  29520.06  29411.44  29411.45   160.22353\n",
      "497  1654273200000  29411.28  29477.79  29401.00  29461.71   219.64921\n",
      "498  1654273500000  29461.71  29473.24  29440.47  29463.77   110.50544\n",
      "499  1654273800000  29463.76  29477.78  29450.26  29450.26    75.22907\n",
      "\n",
      "[500 rows x 6 columns]\n"
     ]
    }
   ],
   "source": [
    "df = pd.DataFrame(bars, columns = [\"time\", \"open\", \"high\", \"low\", \"close\", \"volume\"])\n",
    "print(df)"
   ]
  },
  {
   "cell_type": "code",
   "execution_count": 28,
   "id": "a45e8870-6bc7-4b67-a225-c0e94c4ff126",
   "metadata": {},
   "outputs": [
    {
     "name": "stdout",
     "output_type": "stream",
     "text": [
      "        ADX_14     DMP_14     DMN_14\n",
      "0          NaN        NaN        NaN\n",
      "1          NaN        NaN        NaN\n",
      "2          NaN        NaN        NaN\n",
      "3          NaN        NaN        NaN\n",
      "4          NaN        NaN        NaN\n",
      "..         ...        ...        ...\n",
      "495  18.366220  23.753471  19.246511\n",
      "496  17.787209  22.398508  18.229998\n",
      "497  18.704144  30.355529  16.122084\n",
      "498  19.441590  28.072772  15.441328\n",
      "499  20.126362  27.039061  14.872739\n",
      "\n",
      "[500 rows x 3 columns]\n"
     ]
    }
   ],
   "source": [
    "# adx = ta.adx(df[\"high\"], df[\"low\"], df[\"close\"])\n",
    "adx = df.ta.adx()\n",
    "print(adx)"
   ]
  },
  {
   "cell_type": "code",
   "execution_count": 30,
   "id": "315e501d-8fb9-4835-9a39-1ea6f1951b13",
   "metadata": {},
   "outputs": [
    {
     "name": "stdout",
     "output_type": "stream",
     "text": [
      "     MACD_14_28_9  MACDh_14_28_9  MACDs_14_28_9\n",
      "0             NaN            NaN            NaN\n",
      "1             NaN            NaN            NaN\n",
      "2             NaN            NaN            NaN\n",
      "3             NaN            NaN            NaN\n",
      "4             NaN            NaN            NaN\n",
      "..            ...            ...            ...\n",
      "495      2.350181      -0.003180       2.353362\n",
      "496      2.346677      -0.005348       2.352025\n",
      "497      2.649260       0.237788       2.411472\n",
      "498      2.503442       0.073576       2.429866\n",
      "499      2.539130       0.087412       2.451719\n",
      "\n",
      "[500 rows x 3 columns]\n"
     ]
    }
   ],
   "source": [
    "macd = df.ta.macd(fast = 14, slow = 28)\n",
    "print(macd)"
   ]
  },
  {
   "cell_type": "code",
   "execution_count": 31,
   "id": "209295b1-ac77-42cf-8270-e7bb9ae26660",
   "metadata": {},
   "outputs": [
    {
     "name": "stdout",
     "output_type": "stream",
     "text": [
      "0            NaN\n",
      "1            NaN\n",
      "2            NaN\n",
      "3            NaN\n",
      "4            NaN\n",
      "         ...    \n",
      "495    53.127326\n",
      "496    54.405833\n",
      "497    58.633737\n",
      "498    52.744460\n",
      "499    55.087955\n",
      "Name: RSI_14, Length: 500, dtype: float64\n"
     ]
    }
   ],
   "source": [
    "rsi = df.ta.rsi()\n",
    "print(rsi)"
   ]
  },
  {
   "cell_type": "code",
   "execution_count": 34,
   "id": "6f81f34d-c804-4dae-bbd3-5fac8155143b",
   "metadata": {},
   "outputs": [
    {
     "name": "stdout",
     "output_type": "stream",
     "text": [
      "             time     open     high      low    close     volume  ADX_14  \\\n",
      "0    1.654039e+12  1952.51  1953.31  1950.95  1953.30   980.1388     NaN   \n",
      "1    1.654039e+12  1953.30  1955.20  1952.65  1953.82   710.8329     NaN   \n",
      "2    1.654040e+12  1953.83  1955.73  1952.48  1952.48  1016.1261     NaN   \n",
      "3    1.654040e+12  1952.49  1955.93  1952.48  1952.68  1624.2436     NaN   \n",
      "4    1.654040e+12  1952.69  1953.35  1948.00  1950.43  1080.9540     NaN   \n",
      "..            ...      ...      ...      ...      ...        ...     ...   \n",
      "495           NaN      NaN      NaN      NaN      NaN        NaN     NaN   \n",
      "496           NaN      NaN      NaN      NaN      NaN        NaN     NaN   \n",
      "497           NaN      NaN      NaN      NaN      NaN        NaN     NaN   \n",
      "498           NaN      NaN      NaN      NaN      NaN        NaN     NaN   \n",
      "499           NaN      NaN      NaN      NaN      NaN        NaN     NaN   \n",
      "\n",
      "     DMP_14  DMN_14  MACD_14_28_9  MACDh_14_28_9  MACDs_14_28_9          0  \\\n",
      "0       NaN     NaN           NaN            NaN            NaN        NaN   \n",
      "1       NaN     NaN           NaN            NaN            NaN        NaN   \n",
      "2       NaN     NaN           NaN            NaN            NaN        NaN   \n",
      "3       NaN     NaN           NaN            NaN            NaN        NaN   \n",
      "4       NaN     NaN           NaN            NaN            NaN        NaN   \n",
      "..      ...     ...           ...            ...            ...        ...   \n",
      "495     NaN     NaN           NaN            NaN            NaN  53.127326   \n",
      "496     NaN     NaN           NaN            NaN            NaN  54.405833   \n",
      "497     NaN     NaN           NaN            NaN            NaN  58.633737   \n",
      "498     NaN     NaN           NaN            NaN            NaN  52.744460   \n",
      "499     NaN     NaN           NaN            NaN            NaN  55.087955   \n",
      "\n",
      "        ADX_14     DMP_14     DMN_14  MACD_14_28_9  MACDh_14_28_9  \\\n",
      "0          NaN        NaN        NaN           NaN            NaN   \n",
      "1          NaN        NaN        NaN           NaN            NaN   \n",
      "2          NaN        NaN        NaN           NaN            NaN   \n",
      "3          NaN        NaN        NaN           NaN            NaN   \n",
      "4          NaN        NaN        NaN           NaN            NaN   \n",
      "..         ...        ...        ...           ...            ...   \n",
      "495  18.366220  23.753471  19.246511      2.350181      -0.003180   \n",
      "496  17.787209  22.398508  18.229998      2.346677      -0.005348   \n",
      "497  18.704144  30.355529  16.122084      2.649260       0.237788   \n",
      "498  19.441590  28.072772  15.441328      2.503442       0.073576   \n",
      "499  20.126362  27.039061  14.872739      2.539130       0.087412   \n",
      "\n",
      "     MACDs_14_28_9     RSI_14  \n",
      "0              NaN        NaN  \n",
      "1              NaN        NaN  \n",
      "2              NaN        NaN  \n",
      "3              NaN        NaN  \n",
      "4              NaN        NaN  \n",
      "..             ...        ...  \n",
      "495       2.353362  53.127326  \n",
      "496       2.352025  54.405833  \n",
      "497       2.411472  58.633737  \n",
      "498       2.429866  52.744460  \n",
      "499       2.451719  55.087955  \n",
      "\n",
      "[2000 rows x 20 columns]\n"
     ]
    }
   ],
   "source": [
    "df = pd.concat([df, adx, macd, rsi], axis = 1)\n",
    "print(df)"
   ]
  },
  {
   "cell_type": "code",
   "execution_count": 36,
   "id": "b264d6a8-957f-42f1-8b34-0b565b6ace52",
   "metadata": {},
   "outputs": [
    {
     "name": "stdout",
     "output_type": "stream",
     "text": [
      "             time     open     high      low    close      volume  ADX_14  \\\n",
      "58   1.654056e+12  1930.27  1931.20  1917.29  1917.36   5561.7045     NaN   \n",
      "183  1.654094e+12  1922.61  1928.00  1915.13  1916.02  11228.3815     NaN   \n",
      "184  1.654094e+12  1915.97  1915.99  1890.06  1909.46  16312.5839     NaN   \n",
      "185  1.654094e+12  1909.46  1914.12  1896.51  1907.16   7629.1497     NaN   \n",
      "186  1.654095e+12  1907.15  1907.28  1902.00  1902.20   4168.9384     NaN   \n",
      "..            ...      ...      ...      ...      ...         ...     ...   \n",
      "257           NaN      NaN      NaN      NaN      NaN         NaN     NaN   \n",
      "455           NaN      NaN      NaN      NaN      NaN         NaN     NaN   \n",
      "456           NaN      NaN      NaN      NaN      NaN         NaN     NaN   \n",
      "457           NaN      NaN      NaN      NaN      NaN         NaN     NaN   \n",
      "459           NaN      NaN      NaN      NaN      NaN         NaN     NaN   \n",
      "\n",
      "     DMP_14  DMN_14  MACD_14_28_9  MACDh_14_28_9  MACDs_14_28_9          0  \\\n",
      "58      NaN     NaN           NaN            NaN            NaN        NaN   \n",
      "183     NaN     NaN           NaN            NaN            NaN        NaN   \n",
      "184     NaN     NaN           NaN            NaN            NaN        NaN   \n",
      "185     NaN     NaN           NaN            NaN            NaN        NaN   \n",
      "186     NaN     NaN           NaN            NaN            NaN        NaN   \n",
      "..      ...     ...           ...            ...            ...        ...   \n",
      "257     NaN     NaN           NaN            NaN            NaN  23.178285   \n",
      "455     NaN     NaN           NaN            NaN            NaN  25.662668   \n",
      "456     NaN     NaN           NaN            NaN            NaN  19.064228   \n",
      "457     NaN     NaN           NaN            NaN            NaN  22.419976   \n",
      "459     NaN     NaN           NaN            NaN            NaN  28.971357   \n",
      "\n",
      "        ADX_14     DMP_14     DMN_14  MACD_14_28_9  MACDh_14_28_9  \\\n",
      "58   21.540723  16.718749  37.435209     -3.848000      -0.662469   \n",
      "183  25.955732  14.186272  36.018513     -3.640566      -4.704200   \n",
      "184  28.414510  11.612477  47.004599     -5.473981      -5.230092   \n",
      "185  30.697660  10.253485  41.503717     -7.051068      -5.445743   \n",
      "186  32.817727   9.880136  39.992488     -8.578040      -5.578172   \n",
      "..         ...        ...        ...           ...            ...   \n",
      "257  52.165464   5.542599  40.811969    -13.683215      -2.910401   \n",
      "455  26.732718  15.693794  42.907841     -2.119766      -2.341425   \n",
      "456  29.049730  12.561220  48.969478     -4.407679      -3.703470   \n",
      "457  31.204338  11.910749  46.495656     -6.046544      -4.273868   \n",
      "459  31.105983  17.818712  33.451045     -7.739482      -3.972214   \n",
      "\n",
      "     MACDs_14_28_9     RSI_14  \n",
      "58       -3.185531  28.800988  \n",
      "183       1.063634  27.950366  \n",
      "184      -0.243889  25.448160  \n",
      "185      -1.605325  24.616083  \n",
      "186      -2.999868  22.878770  \n",
      "..             ...        ...  \n",
      "257     -10.772814  23.178285  \n",
      "455       0.221659  25.662668  \n",
      "456      -0.704209  19.064228  \n",
      "457      -1.772676  22.419976  \n",
      "459      -3.767269  28.971357  \n",
      "\n",
      "[140 rows x 20 columns]\n"
     ]
    }
   ],
   "source": [
    "df_low_rsi = df[df[\"RSI_14\"] <30]\n",
    "print(df_low_rsi)"
   ]
  },
  {
   "cell_type": "code",
   "execution_count": null,
   "id": "a9cd2932-1bb2-4c7b-a518-07bbbf240273",
   "metadata": {},
   "outputs": [],
   "source": []
  },
  {
   "cell_type": "code",
   "execution_count": null,
   "id": "0406e306-0820-4821-9f8c-84d5d4f24aa5",
   "metadata": {},
   "outputs": [],
   "source": []
  },
  {
   "cell_type": "code",
   "execution_count": null,
   "id": "8e99b515-28a2-4f08-8f33-a675a9d55498",
   "metadata": {},
   "outputs": [],
   "source": []
  },
  {
   "cell_type": "code",
   "execution_count": 17,
   "id": "0f935dae-6449-407b-aaf2-45f2f99ff4ac",
   "metadata": {},
   "outputs": [],
   "source": [
    "ticker = yfinance.Ticker(\"TSLA\")"
   ]
  },
  {
   "cell_type": "code",
   "execution_count": 20,
   "id": "79900459-410b-4712-a5fd-943761d4b803",
   "metadata": {},
   "outputs": [],
   "source": [
    "df2 = ticker.history(period = \"2y\")"
   ]
  },
  {
   "cell_type": "code",
   "execution_count": 21,
   "id": "513c81fc-f784-4b07-a87f-c88a802d463d",
   "metadata": {},
   "outputs": [
    {
     "name": "stdout",
     "output_type": "stream",
     "text": [
      "                  Open        High         Low       Close    Volume  \\\n",
      "Date                                                                   \n",
      "2020-06-02  178.940002  181.731995  174.199997  176.311996  67828000   \n",
      "2020-06-03  177.623993  179.587997  176.020004  176.591995  39747500   \n",
      "2020-06-04  177.975998  179.149994  171.688004  172.876007  44438500   \n",
      "2020-06-05  175.567993  177.304001  173.240005  177.132004  39059500   \n",
      "2020-06-08  183.800003  190.000000  181.832001  189.983994  70873500   \n",
      "...                ...         ...         ...         ...       ...   \n",
      "2022-05-26  661.419983  718.669983  653.659973  707.729980  35334400   \n",
      "2022-05-27  723.250000  759.799988  720.530029  759.630005  29765000   \n",
      "2022-05-31  773.840027  778.799988  734.229980  758.260010  33971500   \n",
      "2022-06-01  755.159973  771.979980  730.919983  740.369995  25676000   \n",
      "2022-06-02  732.469971  792.630005  726.409973  781.723206  19563362   \n",
      "\n",
      "            Dividends  Stock Splits  \n",
      "Date                                 \n",
      "2020-06-02          0           0.0  \n",
      "2020-06-03          0           0.0  \n",
      "2020-06-04          0           0.0  \n",
      "2020-06-05          0           0.0  \n",
      "2020-06-08          0           0.0  \n",
      "...               ...           ...  \n",
      "2022-05-26          0           0.0  \n",
      "2022-05-27          0           0.0  \n",
      "2022-05-31          0           0.0  \n",
      "2022-06-01          0           0.0  \n",
      "2022-06-02          0           0.0  \n",
      "\n",
      "[506 rows x 7 columns]\n"
     ]
    }
   ],
   "source": [
    "print(df2)"
   ]
  },
  {
   "cell_type": "code",
   "execution_count": null,
   "id": "64a35742-d0b4-4816-9811-6bcdf18f8cfd",
   "metadata": {},
   "outputs": [],
   "source": []
  }
 ],
 "metadata": {
  "kernelspec": {
   "display_name": "Python 3 (ipykernel)",
   "language": "python",
   "name": "python3"
  },
  "language_info": {
   "codemirror_mode": {
    "name": "ipython",
    "version": 3
   },
   "file_extension": ".py",
   "mimetype": "text/x-python",
   "name": "python",
   "nbconvert_exporter": "python",
   "pygments_lexer": "ipython3",
   "version": "3.8.13"
  }
 },
 "nbformat": 4,
 "nbformat_minor": 5
}
