{
 "cells": [
  {
   "cell_type": "markdown",
   "id": "d8e014b1-633b-4034-9696-d9d0530d6259",
   "metadata": {},
   "source": [
    "# ALERT SYSTEM\n",
    "\n",
    "ADX: https://www.investopedia.com/articles/trading/07/adx-trend-indicator.asp\n",
    "\n",
    "Cron Job: https://crontab.guru/\n",
    "*/2 * * * *"
   ]
  },
  {
   "cell_type": "code",
   "execution_count": 1,
   "id": "fedd82eb-27ee-42ae-b799-1b66a14fe986",
   "metadata": {},
   "outputs": [],
   "source": [
    "import pandas as pd\n",
    "import pandas_ta as ta\n",
    "import ccxt, yfinance\n",
    "import requests\n",
    "import os"
   ]
  },
  {
   "cell_type": "code",
   "execution_count": 2,
   "id": "59881940-7dc8-4ba0-988a-32514f8de74b",
   "metadata": {},
   "outputs": [],
   "source": [
    "exchange = ccxt.binance()"
   ]
  },
  {
   "cell_type": "code",
   "execution_count": 3,
   "id": "80aea5b9-05b1-436a-9e61-5529e5f3a319",
   "metadata": {},
   "outputs": [
    {
     "data": {
      "text/plain": [
       "['ETH/USDT', 'BTC/USDT', 'SOL/USDT', 'AVAX/USDT']"
      ]
     },
     "execution_count": 3,
     "metadata": {},
     "output_type": "execute_result"
    }
   ],
   "source": [
    "dir = os.getcwd()\n",
    "path = os.path.join(dir, 'symbols.csv')\n",
    "symbols = pd.read_csv(path)\n",
    "symbols = pd.DataFrame(symbols, columns = [\"symbol\"])\n",
    "symbols = symbols[\"symbol\"].values.tolist()\n",
    "symbols"
   ]
  },
  {
   "cell_type": "code",
   "execution_count": 11,
   "id": "8f2eaf24-fbd9-4778-bcdc-7acea30968fa",
   "metadata": {},
   "outputs": [
    {
     "name": "stdout",
     "output_type": "stream",
     "text": [
      "2022-06-04 17:50:00 no trend: ETH/USDT: ADX:  19.37 Lead_A  1776.28 Lead_B  1773.24 Conv:  1772.02 Base:  1773.64\n",
      "2022-06-04 17:50:00 no trend: ETH/USDT: ADX:  19.37 Lead_A  1776.28 Lead_B  1773.24 Conv:  1772.02 Base:  1773.64\n",
      "2022-06-04 17:50:00 no trend: SOL/USDT: ADX:  14.83 Lead_A  37.53 Lead_B  37.38 Conv:  37.55 Base:  37.59\n",
      "2022-06-04 17:50:00 no trend: AVAX/USDT: ADX:  16.11 Lead_A  23.26 Lead_B  23.16 Conv:  23.25 Base:  23.27\n"
     ]
    }
   ],
   "source": [
    "for symbol in symbols:\n",
    "    bars = exchange.fetch_ohlcv(symbol, timeframe = \"5m\", limit = 500)\n",
    "    df = pd.DataFrame(bars, columns = [\"time\", \"open\", \"high\", \"low\", \"close\", \"volume\"])\n",
    "    df['time'] = pd.to_datetime(df['time'], unit = 'ms')    \n",
    "    \n",
    "    # technical indicators\n",
    "    adx = df.ta.adx()\n",
    "    macd = df.ta.macd(fast = 14, slow = 28)\n",
    "    rsi = df.ta.rsi()\n",
    "    \n",
    "    tenkan=9\n",
    "    kijun=26\n",
    "    senkou=52\n",
    "    ichimoku = ta.ichimoku(df['high'], df['low'], df['close'], tenkan=tenkan, kijun = kijun, senkou = senkou)\n",
    "\n",
    "    # create composite df\n",
    "    df = pd.concat([df, adx, macd, rsi, ichimoku[0]], axis = 1)\n",
    "\n",
    "    # grab the last value\n",
    "    last_row = df.iloc[-1]\n",
    "    last_row_ich_kijun = ichimoku[0].iloc[-1]\n",
    "    cap_time = last_row[0]\n",
    "\n",
    "    # hook to discord channel\n",
    "    WEBHOOK_URL = \"https://discord.com/api/webhooks/982327105041875004/w_ume6BIxlHe3C9jgRUrUXWSFn3oiLcvpb2118vsNh8iZdRGHxD5LqYDer2cGwsjd_sL\"\n",
    "\n",
    "     # logic\n",
    "    if last_row[\"ADX_14\"] > 25:\n",
    "        if (last_row_ich_kijun['ISA_9'] > last_row_ich_kijun['ISB_26']): # future up trend\n",
    "            if (last_row['close'] > last_row['ISA_9']) & (last_row['close'] > last_row['ISB_26']):\n",
    "                if (last_row['ITS_9'] > last_row['IKS_26']):\n",
    "                    message = f\"{cap_time} STRONG UP TREND: {symbol}: ADX: {last_row['ADX_14']: .2f} Lead_A {last_row_ich_kijun['ISA_9']: .2f} Lead_B {last_row_ich_kijun['ISB_26']: .2f} Conv: {last_row['ITS_9']: .2f} Base: {last_row['IKS_26']: .2f}\"\n",
    "                        \n",
    "        \n",
    "    if last_row[\"ADX_14\"] > 25:\n",
    "        if (last_row_ich_kijun['ISA_9'] < last_row_ich_kijun['ISB_26']): # future up trend\n",
    "            if (last_row['close'] < last_row['ISA_9']) & (last_row['close'] < last_row['ISB_26']):\n",
    "                if (last_row['ITS_9'] < last_row['IKS_26']):\n",
    "                     message = f\"{cap_time} STRONG DOWN TREND: {symbol}: ADX: {last_row['ADX_14']: .2f} Lead_A {last_row_ich_kijun['ISA_9']: .2f} Lead_B {last_row_ich_kijun['ISB_26']: .2f} Conv: {last_row['ITS_9']: .2f} Base: {last_row['IKS_26']: .2f}\"\n",
    "           \n",
    "        payload = {\n",
    "            \"username\" : \"alertbot\",\n",
    "            \"content\" : message\n",
    "        }\n",
    "\n",
    "        print(message)\n",
    "        requests.post(WEBHOOK_URL, json = payload)\n",
    "\n",
    "    if last_row[\"ADX_14\"] < 25:\n",
    "        message = f\"{cap_time} no trend: {symbol}: ADX: {last_row['ADX_14']: .2f} Lead_A: {last_row_ich_kijun['ISA_9']: .2f} Lead_B: {last_row_ich_kijun['ISB_26']: .2f} Conv: {last_row['ITS_9']: .2f} Base: {last_row['IKS_26']: .2f}\"\n",
    "\n",
    "        payload = {\n",
    "            \"username\" : \"alertbot\",\n",
    "            \"content\" : message\n",
    "        }\n",
    "        \n",
    "        print(message)\n",
    "        requests.post(WEBHOOK_URL, json = payload)"
   ]
  },
  {
   "cell_type": "code",
   "execution_count": null,
   "id": "fbc79c77-9615-42ac-b1b3-ee7b8aacecae",
   "metadata": {},
   "outputs": [],
   "source": []
  }
 ],
 "metadata": {
  "kernelspec": {
   "display_name": "Python 3 (ipykernel)",
   "language": "python",
   "name": "python3"
  },
  "language_info": {
   "codemirror_mode": {
    "name": "ipython",
    "version": 3
   },
   "file_extension": ".py",
   "mimetype": "text/x-python",
   "name": "python",
   "nbconvert_exporter": "python",
   "pygments_lexer": "ipython3",
   "version": "3.8.13"
  }
 },
 "nbformat": 4,
 "nbformat_minor": 5
}
