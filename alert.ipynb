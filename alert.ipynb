{
 "cells": [
  {
   "cell_type": "code",
   "execution_count": null,
   "id": "2aafeb67-16bb-41d9-9131-f7372899172d",
   "metadata": {},
   "outputs": [],
   "source": [
    "import pandas as pd\n",
    "import pandas_ta as ta\n",
    "import ccxt, yfinance\n",
    "import requests\n",
    "\n",
    "\n",
    "exchange = ccxt.binance()"
   ]
  },
  {
   "cell_type": "code",
   "execution_count": null,
   "id": "2f00acce-70ee-46aa-81d6-8dbaceeab95f",
   "metadata": {},
   "outputs": [
    {
     "name": "stdout",
     "output_type": "stream",
     "text": [
      "NO TREND:ETH/USDT: The ADX is  12.43 +DI  19.18 -DI  20.25\n",
      "NO TREND:BTC/USDT: The ADX is  12.56 +DI  20.18 -DI  18.90\n",
      "NO TREND:SOL/USDT: The ADX is  9.10 +DI  18.22 -DI  12.63\n",
      "NO TREND:AVAX/USDT: The ADX is  15.25 +DI  29.01 -DI  11.70\n"
     ]
    }
   ],
   "source": [
    "#symbols = [\"ETH/USDT\", \"BTC/USDT\", \"SOL/USDT\", \"AVAX/USDT\"]\n",
    "\n",
    "symbols = pd.DataFrame(symbols, columns = [\"symbol\"])\n",
    "symbols = dft2[\"symbol\"].values.tolist()\n",
    "\n",
    "for symbol in symbols:\n",
    "    bars = exchange.fetch_ohlcv(symbol, timeframe = \"5m\", limit = 500)\n",
    "    df = pd.DataFrame(bars, columns = [\"time\", \"open\", \"high\", \"low\", \"close\", \"volume\"])\n",
    "\n",
    "    # technical indicators\n",
    "    adx = df.ta.adx()\n",
    "    macd = df.ta.macd(fast = 14, slow = 28)\n",
    "    rsi = df.ta.rsi()\n",
    "\n",
    "    # create composite df\n",
    "    df = pd.concat([df, adx, macd, rsi], axis = 1)\n",
    "\n",
    "    # grab the last value\n",
    "    last_row = df.iloc[-1]\n",
    "\n",
    "    # hook to discord channel\n",
    "    WEBHOOK_URL = \"https://discord.com/api/webhooks/981984523317301279/AZEt7Fz5WWZoHqUgaKfczzmj7Mjf7XuumJLLss-nEFuSZ6FWE_dUWgqvzLQpTmBAoxz1\"\n",
    "\n",
    "    # logic\n",
    "    if last_row[\"ADX_14\"] > 25:\n",
    "        if last_row[\"DMP_14\"] > last_row[\"DMN_14\"]:\n",
    "            message = f\"STRONG UP TREND: {symbol}: The ADX is {last_row['ADX_14']: .2f} +DI {last_row['DMP_14']: .2f} -DI {last_row['DMN_14']: .2f}\"\n",
    "        if last_row[\"DMN_14\"] > last_row[\"DMP_14\"]:\n",
    "            message = f\"STRONG DOWN TREND:{symbol}: The ADX is {last_row['ADX_14']: .2f} +DI {last_row['DMP_14']: .2f} -DI {last_row['DMN_14']: .2f}\"\n",
    "\n",
    "        payload = {\n",
    "            \"username\" : \"alertbot\",\n",
    "            \"content\" : message\n",
    "        }\n",
    "\n",
    "        print(message)\n",
    "        #requests.post(WEBHOOK_URL, json = payload)\n",
    "\n",
    "    if last_row[\"ADX_14\"] < 25:\n",
    "        message = f\"NO TREND:{symbol}: The ADX is {last_row['ADX_14']: .2f} +DI {last_row['DMP_14']: .2f} -DI {last_row['DMN_14']: .2f}\"\n",
    "\n",
    "        payload = {\n",
    "            \"username\" : \"alertbot\",\n",
    "            \"content\" : message\n",
    "        }\n",
    "        \n",
    "        print(message)\n",
    "        #requests.post(WEBHOOK_URL, json = payload)"
   ]
  },
  {
   "cell_type": "code",
   "execution_count": null,
   "id": "9c4b3080-3187-471e-ae8d-8479cafe457b",
   "metadata": {},
   "outputs": [
    {
     "data": {
      "text/html": [
       "<div>\n",
       "<style scoped>\n",
       "    .dataframe tbody tr th:only-of-type {\n",
       "        vertical-align: middle;\n",
       "    }\n",
       "\n",
       "    .dataframe tbody tr th {\n",
       "        vertical-align: top;\n",
       "    }\n",
       "\n",
       "    .dataframe thead th {\n",
       "        text-align: right;\n",
       "    }\n",
       "</style>\n",
       "<table border=\"1\" class=\"dataframe\">\n",
       "  <thead>\n",
       "    <tr style=\"text-align: right;\">\n",
       "      <th></th>\n",
       "      <th>Unnamed: 0</th>\n",
       "      <th>symbol</th>\n",
       "    </tr>\n",
       "  </thead>\n",
       "  <tbody>\n",
       "    <tr>\n",
       "      <th>0</th>\n",
       "      <td>0</td>\n",
       "      <td>ETH/USDT</td>\n",
       "    </tr>\n",
       "    <tr>\n",
       "      <th>1</th>\n",
       "      <td>1</td>\n",
       "      <td>BTC/USDT</td>\n",
       "    </tr>\n",
       "    <tr>\n",
       "      <th>2</th>\n",
       "      <td>2</td>\n",
       "      <td>SOL/USDT</td>\n",
       "    </tr>\n",
       "    <tr>\n",
       "      <th>3</th>\n",
       "      <td>3</td>\n",
       "      <td>AVAX/USDT</td>\n",
       "    </tr>\n",
       "  </tbody>\n",
       "</table>\n",
       "</div>"
      ],
      "text/plain": [
       "   Unnamed: 0     symbol\n",
       "0           0   ETH/USDT\n",
       "1           1   BTC/USDT\n",
       "2           2   SOL/USDT\n",
       "3           3  AVAX/USDT"
      ]
     },
     "execution_count": 28,
     "metadata": {},
     "output_type": "execute_result"
    }
   ],
   "source": [
    "dft2 = pd.read_csv(\"symbols.csv\")\n",
    "dft2"
   ]
  },
  {
   "cell_type": "code",
   "execution_count": null,
   "id": "c727ff06-1d73-4a35-a28b-87f9feadf3b7",
   "metadata": {},
   "outputs": [
    {
     "data": {
      "text/plain": [
       "['ETH/USDT', 'BTC/USDT', 'SOL/USDT', 'AVAX/USDT']"
      ]
     },
     "execution_count": 30,
     "metadata": {},
     "output_type": "execute_result"
    }
   ],
   "source": [
    "dft2[\"symbol\"].values.tolist()\n"
   ]
  },
  {
   "cell_type": "code",
   "execution_count": null,
   "id": "9f29e179-da0d-42cb-bda0-883c036693c7",
   "metadata": {},
   "outputs": [
    {
     "data": {
      "text/plain": [
       "['ETH/USDT', 'BTC/USDT', 'SOL/USDT', 'AVAX/USDT']"
      ]
     },
     "execution_count": 22,
     "metadata": {},
     "output_type": "execute_result"
    }
   ],
   "source": [
    "symbols"
   ]
  },
  {
   "cell_type": "code",
   "execution_count": null,
   "id": "8f016d1f-9351-4c9c-a7c0-68589dc8f0be",
   "metadata": {},
   "outputs": [],
   "source": []
  }
 ],
 "metadata": {
  "kernelspec": {
   "display_name": "Python 3 (ipykernel)",
   "language": "python",
   "name": "python3"
  },
  "language_info": {
   "codemirror_mode": {
    "name": "ipython",
    "version": 3
   },
   "file_extension": ".py",
   "mimetype": "text/x-python",
   "name": "python",
   "nbconvert_exporter": "python",
   "pygments_lexer": "ipython3",
   "version": "3.8.13"
  }
 },
 "nbformat": 4,
 "nbformat_minor": 5
}
