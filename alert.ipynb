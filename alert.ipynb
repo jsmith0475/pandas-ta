{
 "cells": [
  {
   "cell_type": "code",
   "execution_count": 30,
   "id": "4296ab24-0ddf-4362-93d0-d8ba17acaa7d",
   "metadata": {},
   "outputs": [
    {
     "name": "stdout",
     "output_type": "stream",
     "text": [
      "NO TREND: The ADX is  14.03\n"
     ]
    }
   ],
   "source": [
    "import pandas as pd\n",
    "import pandas_ta as ta\n",
    "import ccxt, yfinance\n",
    "import requests\n",
    " \n",
    "exchange = ccxt.binance()\n",
    "\n",
    "bars = exchange.fetch_ohlcv(\"ETH/USDT\", timeframe = \"5m\", limit = 500)\n",
    "\n",
    "df = pd.DataFrame(bars, columns = [\"time\", \"open\", \"high\", \"low\", \"close\", \"volume\"])\n",
    "\n",
    "\n",
    "adx = df.ta.adx()\n",
    "macd = df.ta.macd(fast = 14, slow = 28)\n",
    "rsi = df.ta.rsi()\n",
    "\n",
    "df = pd.concat([df, adx, macd, rsi], axis = 1)\n",
    "\n",
    "last_row = df.iloc[-1]\n",
    "\n",
    "WEBHOOK_URL = \"https://discord.com/api/webhooks/981984523317301279/AZEt7Fz5WWZoHqUgaKfczzmj7Mjf7XuumJLLss-nEFuSZ6FWE_dUWgqvzLQpTmBAoxz1\"\n",
    "\n",
    "tmp = last_row[\"ADX_14\"]\n",
    "if last_row[\"ADX_14\"] > 25:\n",
    "    if last_row[\"DMP_14\"] > last_row[\"DMN_14\"]:\n",
    "        message = f\"STRONG UP TREND: The ADX is {tmp: .2f}\"\n",
    "    if last_row[\"DMN_14\"] > last_row[\"DMP_14\"]:\n",
    "        message = f\"STRONG DOWN TREND: The ADX is {tmp: .2f}\"\n",
    "    \n",
    "    payload = {\n",
    "        \"username\" : \"alertbot\",\n",
    "        \"content\" : message\n",
    "    }\n",
    "    \n",
    "    requests.post(WEBHOOK_URL, json = payload)\n",
    "\n",
    "if last_row[\"ADX_14\"] < 25:\n",
    "    message = f\"NO TREND: The ADX is {tmp: .2f}\"\n",
    "    print(message)\n",
    "    \n",
    "    payload = {\n",
    "        \"username\" : \"alertbot\",\n",
    "        \"content\" : message\n",
    "    }\n",
    "    \n",
    "    requests.post(WEBHOOK_URL, json = payload)\n",
    "\n",
    "\n"
   ]
  },
  {
   "cell_type": "code",
   "execution_count": null,
   "id": "49ef0378-6166-46de-8e63-31dd9780338b",
   "metadata": {},
   "outputs": [],
   "source": []
  }
 ],
 "metadata": {
  "kernelspec": {
   "display_name": "Python 3 (ipykernel)",
   "language": "python",
   "name": "python3"
  },
  "language_info": {
   "codemirror_mode": {
    "name": "ipython",
    "version": 3
   },
   "file_extension": ".py",
   "mimetype": "text/x-python",
   "name": "python",
   "nbconvert_exporter": "python",
   "pygments_lexer": "ipython3",
   "version": "3.8.13"
  }
 },
 "nbformat": 4,
 "nbformat_minor": 5
}
