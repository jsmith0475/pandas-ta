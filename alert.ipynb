{
 "cells": [
  {
   "cell_type": "code",
   "execution_count": 34,
   "id": "4296ab24-0ddf-4362-93d0-d8ba17acaa7d",
   "metadata": {},
   "outputs": [
    {
     "name": "stdout",
     "output_type": "stream",
     "text": [
      "NO TREND: The ADX is 22.182891032095384 +DI 23.176075830568934 -DI 15.241059020958293\n"
     ]
    }
   ],
   "source": [
    "import pandas as pd\n",
    "import pandas_ta as ta\n",
    "import ccxt, yfinance\n",
    "import requests\n",
    "\n",
    "\n",
    "exchange = ccxt.binance()\n",
    "\n",
    "bars = exchange.fetch_ohlcv(\"ETH/USDT\", timeframe = \"5m\", limit = 500)\n",
    "\n",
    "df = pd.DataFrame(bars, columns = [\"time\", \"open\", \"high\", \"low\", \"close\", \"volume\"])\n",
    "\n",
    "\n",
    "adx = df.ta.adx()\n",
    "macd = df.ta.macd(fast = 14, slow = 28)\n",
    "rsi = df.ta.rsi()\n",
    "\n",
    "df = pd.concat([df, adx, macd, rsi], axis = 1)\n",
    "\n",
    "last_row = df.iloc[-1]\n",
    "\n",
    "WEBHOOK_URL = \"https://discord.com/api/webhooks/981984523317301279/AZEt7Fz5WWZoHqUgaKfczzmj7Mjf7XuumJLLss-nEFuSZ6FWE_dUWgqvzLQpTmBAoxz1\"\n",
    "\n",
    "if last_row[\"ADX_14\"] > 25:\n",
    "    if last_row[\"DMP_14\"] > last_row[\"DMN_14\"]:\n",
    "        message = f\"STRONG UP TREND: The ADX is {last_row['ADX_14']: .2f} +DI {last_row['DMP_14']} -DI {last_row['DMN_14']}\"\n",
    "    if last_row[\"DMN_14\"] > last_row[\"DMP_14\"]:\n",
    "        message = f\"STRONG DOWN TREND: The ADX is {last_row['ADX_14']} +DI {last_row['DMP_14']} -DI {last_row['DMN_14']}\"\n",
    "    \n",
    "    payload = {\n",
    "        \"username\" : \"alertbot\",\n",
    "        \"content\" : message\n",
    "    }\n",
    "    \n",
    "    requests.post(WEBHOOK_URL, json = payload)\n",
    "\n",
    "if last_row[\"ADX_14\"] < 25:\n",
    "    message = f\"NO TREND: The ADX is {last_row['ADX_14']} +DI {last_row['DMP_14']} -DI {last_row['DMN_14']}\"\n",
    "    print(message)\n",
    "    \n",
    "    payload = {\n",
    "        \"username\" : \"alertbot\",\n",
    "        \"content\" : message\n",
    "    }\n",
    "    \n",
    "    requests.post(WEBHOOK_URL, json = payload)\n",
    "\n",
    "\n"
   ]
  },
  {
   "cell_type": "code",
   "execution_count": 31,
   "id": "49ef0378-6166-46de-8e63-31dd9780338b",
   "metadata": {},
   "outputs": [
    {
     "name": "stdout",
     "output_type": "stream",
     "text": [
      "Requirement already satisfied: ccxt in /Users/jerrysmith/miniforge3/envs/env_jas/lib/python3.8/site-packages (1.84.71)\n",
      "Requirement already satisfied: cryptography>=2.6.1 in /Users/jerrysmith/miniforge3/envs/env_jas/lib/python3.8/site-packages (from ccxt) (36.0.0)\n",
      "Requirement already satisfied: requests>=2.18.4 in /Users/jerrysmith/miniforge3/envs/env_jas/lib/python3.8/site-packages (from ccxt) (2.27.1)\n",
      "Requirement already satisfied: aiodns>=1.1.1 in /Users/jerrysmith/miniforge3/envs/env_jas/lib/python3.8/site-packages (from ccxt) (3.0.0)\n",
      "Requirement already satisfied: yarl==1.7.2 in /Users/jerrysmith/miniforge3/envs/env_jas/lib/python3.8/site-packages (from ccxt) (1.7.2)\n",
      "Requirement already satisfied: aiohttp>=3.8 in /Users/jerrysmith/miniforge3/envs/env_jas/lib/python3.8/site-packages (from ccxt) (3.8.1)\n",
      "Requirement already satisfied: setuptools>=60.9.0 in /Users/jerrysmith/.local/lib/python3.8/site-packages (from ccxt) (61.3.1)\n",
      "Requirement already satisfied: certifi>=2018.1.18 in /Users/jerrysmith/miniforge3/envs/env_jas/lib/python3.8/site-packages (from ccxt) (2021.10.8)\n",
      "Requirement already satisfied: multidict>=4.0 in /Users/jerrysmith/miniforge3/envs/env_jas/lib/python3.8/site-packages (from yarl==1.7.2->ccxt) (5.2.0)\n",
      "Requirement already satisfied: idna>=2.0 in /Users/jerrysmith/miniforge3/envs/env_jas/lib/python3.8/site-packages (from yarl==1.7.2->ccxt) (3.3)\n",
      "Requirement already satisfied: pycares>=4.0.0 in /Users/jerrysmith/miniforge3/envs/env_jas/lib/python3.8/site-packages (from aiodns>=1.1.1->ccxt) (4.1.2)\n",
      "Requirement already satisfied: aiosignal>=1.1.2 in /Users/jerrysmith/miniforge3/envs/env_jas/lib/python3.8/site-packages (from aiohttp>=3.8->ccxt) (1.2.0)\n",
      "Requirement already satisfied: attrs>=17.3.0 in /Users/jerrysmith/.local/lib/python3.8/site-packages (from aiohttp>=3.8->ccxt) (21.4.0)\n",
      "Requirement already satisfied: async-timeout<5.0,>=4.0.0a3 in /Users/jerrysmith/miniforge3/envs/env_jas/lib/python3.8/site-packages (from aiohttp>=3.8->ccxt) (4.0.1)\n",
      "Requirement already satisfied: frozenlist>=1.1.1 in /Users/jerrysmith/miniforge3/envs/env_jas/lib/python3.8/site-packages (from aiohttp>=3.8->ccxt) (1.2.0)\n",
      "Requirement already satisfied: charset-normalizer<3.0,>=2.0 in /Users/jerrysmith/miniforge3/envs/env_jas/lib/python3.8/site-packages (from aiohttp>=3.8->ccxt) (2.0.4)\n",
      "Requirement already satisfied: cffi>=1.12 in /Users/jerrysmith/miniforge3/envs/env_jas/lib/python3.8/site-packages (from cryptography>=2.6.1->ccxt) (1.15.0)\n",
      "Requirement already satisfied: urllib3<1.27,>=1.21.1 in /Users/jerrysmith/miniforge3/envs/env_jas/lib/python3.8/site-packages (from requests>=2.18.4->ccxt) (1.26.9)\n",
      "Requirement already satisfied: typing-extensions>=3.6.5 in /Users/jerrysmith/miniforge3/envs/env_jas/lib/python3.8/site-packages (from async-timeout<5.0,>=4.0.0a3->aiohttp>=3.8->ccxt) (4.1.1)\n",
      "Requirement already satisfied: pycparser in /Users/jerrysmith/miniforge3/envs/env_jas/lib/python3.8/site-packages (from cffi>=1.12->cryptography>=2.6.1->ccxt) (2.21)\n",
      "\u001b[33mWARNING: There was an error checking the latest version of pip.\u001b[0m\u001b[33m\n",
      "\u001b[0m"
     ]
    }
   ],
   "source": [
    "!pip install ccxt"
   ]
  },
  {
   "cell_type": "code",
   "execution_count": null,
   "id": "9fd71c06-30ea-4af4-9ae0-88d6c2b58217",
   "metadata": {},
   "outputs": [],
   "source": []
  }
 ],
 "metadata": {
  "kernelspec": {
   "display_name": "Python 3 (ipykernel)",
   "language": "python",
   "name": "python3"
  },
  "language_info": {
   "codemirror_mode": {
    "name": "ipython",
    "version": 3
   },
   "file_extension": ".py",
   "mimetype": "text/x-python",
   "name": "python",
   "nbconvert_exporter": "python",
   "pygments_lexer": "ipython3",
   "version": "3.8.13"
  }
 },
 "nbformat": 4,
 "nbformat_minor": 5
}
