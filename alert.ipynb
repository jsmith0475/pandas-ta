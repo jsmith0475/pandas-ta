{
 "cells": [
  {
   "cell_type": "markdown",
   "id": "d8e014b1-633b-4034-9696-d9d0530d6259",
   "metadata": {},
   "source": [
    "# ALERT SYSTEM\n",
    "\n",
    "ADX: https://www.investopedia.com/articles/trading/07/adx-trend-indicator.asp\n",
    "\n",
    "Cron Job: https://crontab.guru/\n",
    "*/2 * * * *"
   ]
  },
  {
   "cell_type": "code",
   "execution_count": 2,
   "id": "fedd82eb-27ee-42ae-b799-1b66a14fe986",
   "metadata": {},
   "outputs": [],
   "source": [
    "import pandas as pd\n",
    "import pandas_ta as ta\n",
    "import ccxt, yfinance\n",
    "import requests"
   ]
  },
  {
   "cell_type": "code",
   "execution_count": null,
   "id": "dd93d37e-8f1b-4f30-9d42-c087b72708ea",
   "metadata": {},
   "outputs": [],
   "source": []
  },
  {
   "cell_type": "code",
   "execution_count": 3,
   "id": "59881940-7dc8-4ba0-988a-32514f8de74b",
   "metadata": {},
   "outputs": [],
   "source": [
    "exchange = ccxt.binance()"
   ]
  },
  {
   "cell_type": "code",
   "execution_count": 4,
   "id": "80aea5b9-05b1-436a-9e61-5529e5f3a319",
   "metadata": {},
   "outputs": [],
   "source": [
    "symbols = pd.read_csv(\"symbols.csv\")\n",
    "symbols = pd.DataFrame(symbols, columns = [\"symbol\"])\n",
    "symbols = symbols[\"symbol\"].values.tolist()"
   ]
  },
  {
   "cell_type": "code",
   "execution_count": 30,
   "id": "8f2eaf24-fbd9-4778-bcdc-7acea30968fa",
   "metadata": {},
   "outputs": [
    {
     "name": "stdout",
     "output_type": "stream",
     "text": [
      "time             2022-06-03 17:55:00\n",
      "open                         1752.58\n",
      "high                         1753.73\n",
      "low                          1750.58\n",
      "close                        1753.15\n",
      "volume                     1381.9833\n",
      "ADX_14                      11.49137\n",
      "DMP_14                     17.093766\n",
      "DMN_14                     23.802613\n",
      "MACD_14_28_9               -2.152543\n",
      "MACDh_14_28_9              -0.319919\n",
      "MACDs_14_28_9              -1.832625\n",
      "RSI_14                     45.424982\n",
      "Name: 499, dtype: object\n",
      "2022-06-03 17:55:00 no trend:ETH/USDT: The ADX is  11.49 +DI  17.09 -DI  23.80\n",
      "time             2022-06-03 17:55:00\n",
      "open                        29509.19\n",
      "high                        29519.59\n",
      "low                         29485.89\n",
      "close                       29519.59\n",
      "volume                      59.62987\n",
      "ADX_14                     11.524587\n",
      "DMP_14                     19.419563\n",
      "DMN_14                     20.052138\n",
      "MACD_14_28_9               -2.437977\n",
      "MACDh_14_28_9                0.88651\n",
      "MACDs_14_28_9              -3.324487\n",
      "RSI_14                      50.44098\n",
      "Name: 499, dtype: object\n",
      "2022-06-03 17:55:00 no trend:BTC/USDT: The ADX is  11.52 +DI  19.42 -DI  20.05\n",
      "time             2022-06-03 17:55:00\n",
      "open                            38.0\n",
      "high                           38.11\n",
      "low                            37.92\n",
      "close                          38.06\n",
      "volume                      11779.67\n",
      "ADX_14                      9.367994\n",
      "DMP_14                     16.427076\n",
      "DMN_14                     18.589653\n",
      "MACD_14_28_9               -0.004972\n",
      "MACDh_14_28_9              -0.002908\n",
      "MACDs_14_28_9              -0.002064\n",
      "RSI_14                     50.356243\n",
      "Name: 499, dtype: object\n",
      "2022-06-03 17:55:00 no trend:SOL/USDT: The ADX is  9.37 +DI  16.43 -DI  18.59\n",
      "time             2022-06-03 17:55:00\n",
      "open                            22.9\n",
      "high                           22.93\n",
      "low                            22.84\n",
      "close                           22.9\n",
      "volume                       9654.49\n",
      "ADX_14                      20.88381\n",
      "DMP_14                     20.309246\n",
      "DMN_14                     18.784971\n",
      "MACD_14_28_9                0.026417\n",
      "MACDh_14_28_9              -0.012137\n",
      "MACDs_14_28_9               0.038554\n",
      "RSI_14                      49.55067\n",
      "Name: 499, dtype: object\n",
      "2022-06-03 17:55:00 no trend:AVAX/USDT: The ADX is  20.88 +DI  20.31 -DI  18.78\n"
     ]
    }
   ],
   "source": [
    "for symbol in symbols:\n",
    "    bars = exchange.fetch_ohlcv(symbol, timeframe = \"5m\", limit = 500)\n",
    "    df = pd.DataFrame(bars, columns = [\"time\", \"open\", \"high\", \"low\", \"close\", \"volume\"])\n",
    "    df['time'] = pd.to_datetime(df['time'], unit = 'ms')    \n",
    "    \n",
    "    # technical indicators\n",
    "    adx = df.ta.adx()\n",
    "    macd = df.ta.macd(fast = 14, slow = 28)\n",
    "    rsi = df.ta.rsi()\n",
    "\n",
    "    # create composite df\n",
    "    df = pd.concat([df, adx, macd, rsi], axis = 1)\n",
    "\n",
    "    # grab the last value\n",
    "    last_row = df.iloc[-1]\n",
    "    cap_time = last_row[0]\n",
    "\n",
    "    # hook to discord channel\n",
    "    WEBHOOK_URL = \"https://discord.com/api/webhooks/982327105041875004/w_ume6BIxlHe3C9jgRUrUXWSFn3oiLcvpb2118vsNh8iZdRGHxD5LqYDer2cGwsjd_sL\"\n",
    "\n",
    "    # logic\n",
    "    if last_row[\"ADX_14\"] > 25:\n",
    "        if last_row[\"DMP_14\"] > last_row[\"DMN_14\"]:\n",
    "            message = f\"{cap_time} STRONG UP TREND: {symbol}: The ADX is {last_row['ADX_14']: .2f} +DI {last_row['DMP_14']: .2f} -DI {last_row['DMN_14']: .2f}\"\n",
    "        if last_row[\"DMN_14\"] > last_row[\"DMP_14\"]:\n",
    "            message = f\"{cap_time} STRONG DOWN TREND:{symbol}: The ADX is {last_row['ADX_14']: .2f} +DI {last_row['DMP_14']: .2f} -DI {last_row['DMN_14']: .2f}\"\n",
    "\n",
    "        payload = {\n",
    "            \"username\" : \"alertbot\",\n",
    "            \"content\" : message\n",
    "        }\n",
    "\n",
    "        print(message)\n",
    "        #requests.post(WEBHOOK_URL, json = payload)\n",
    "\n",
    "    if last_row[\"ADX_14\"] < 25:\n",
    "        message = f\"{cap_time} no trend:{symbol}: The ADX is {last_row['ADX_14']: .2f} +DI {last_row['DMP_14']: .2f} -DI {last_row['DMN_14']: .2f}\"\n",
    "\n",
    "        payload = {\n",
    "            \"username\" : \"alertbot\",\n",
    "            \"content\" : message\n",
    "        }\n",
    "        \n",
    "        print(message)\n",
    "        #requests.post(WEBHOOK_URL, json = payload)"
   ]
  },
  {
   "cell_type": "code",
   "execution_count": null,
   "id": "d467b5ee-d3f9-41f1-b9ae-2b8a39fb97dd",
   "metadata": {},
   "outputs": [],
   "source": []
  }
 ],
 "metadata": {
  "kernelspec": {
   "display_name": "Python 3 (ipykernel)",
   "language": "python",
   "name": "python3"
  },
  "language_info": {
   "codemirror_mode": {
    "name": "ipython",
    "version": 3
   },
   "file_extension": ".py",
   "mimetype": "text/x-python",
   "name": "python",
   "nbconvert_exporter": "python",
   "pygments_lexer": "ipython3",
   "version": "3.8.13"
  }
 },
 "nbformat": 4,
 "nbformat_minor": 5
}
