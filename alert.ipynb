{
 "cells": [
  {
   "cell_type": "markdown",
   "id": "d8e014b1-633b-4034-9696-d9d0530d6259",
   "metadata": {},
   "source": [
    "# ALERT SYSTEM\n",
    "\n",
    "ADX: https://www.investopedia.com/articles/trading/07/adx-trend-indicator.asp\n",
    "\n",
    "Cron Job: https://crontab.guru/\n",
    "*/2 * * * *"
   ]
  },
  {
   "cell_type": "code",
   "execution_count": 2,
   "id": "fedd82eb-27ee-42ae-b799-1b66a14fe986",
   "metadata": {},
   "outputs": [],
   "source": [
    "import pandas as pd\n",
    "import pandas_ta as ta\n",
    "import ccxt, yfinance\n",
    "import requests"
   ]
  },
  {
   "cell_type": "code",
   "execution_count": null,
   "id": "dd93d37e-8f1b-4f30-9d42-c087b72708ea",
   "metadata": {},
   "outputs": [],
   "source": []
  },
  {
   "cell_type": "code",
   "execution_count": 3,
   "id": "59881940-7dc8-4ba0-988a-32514f8de74b",
   "metadata": {},
   "outputs": [],
   "source": [
    "exchange = ccxt.binance()"
   ]
  },
  {
   "cell_type": "code",
   "execution_count": 31,
   "id": "80aea5b9-05b1-436a-9e61-5529e5f3a319",
   "metadata": {},
   "outputs": [
    {
     "data": {
      "text/plain": [
       "['ETH/USDT', 'BTC/USDT', 'SOL/USDT', 'AVAX/USDT']"
      ]
     },
     "execution_count": 31,
     "metadata": {},
     "output_type": "execute_result"
    }
   ],
   "source": [
    "symbols = pd.read_csv(\"symbols.csv\")\n",
    "symbols = pd.DataFrame(symbols, columns = [\"symbol\"])\n",
    "symbols = symbols[\"symbol\"].values.tolist()\n",
    "symbols"
   ]
  },
  {
   "cell_type": "code",
   "execution_count": 35,
   "id": "8f2eaf24-fbd9-4778-bcdc-7acea30968fa",
   "metadata": {},
   "outputs": [
    {
     "name": "stdout",
     "output_type": "stream",
     "text": [
      "2022-06-03 19:30:00 no trend:ETH/USDT: The ADX is  18.92 +DI  12.83 -DI  20.97\n",
      "2022-06-03 19:30:00 no trend:BTC/USDT: The ADX is  6.77 +DI  20.07 -DI  19.50\n",
      "2022-06-03 19:30:00 no trend:SOL/USDT: The ADX is  19.87 +DI  26.89 -DI  12.66\n",
      "2022-06-03 19:30:00 no trend:AVAX/USDT: The ADX is  11.11 +DI  17.78 -DI  21.92\n"
     ]
    }
   ],
   "source": [
    "for symbol in symbols:\n",
    "    bars = exchange.fetch_ohlcv(symbol, timeframe = \"5m\", limit = 500)\n",
    "    df = pd.DataFrame(bars, columns = [\"time\", \"open\", \"high\", \"low\", \"close\", \"volume\"])\n",
    "    df['time'] = pd.to_datetime(df['time'], unit = 'ms')    \n",
    "    \n",
    "    # technical indicators\n",
    "    adx = df.ta.adx()\n",
    "    macd = df.ta.macd(fast = 14, slow = 28)\n",
    "    rsi = df.ta.rsi()\n",
    "\n",
    "    # create composite df\n",
    "    df = pd.concat([df, adx, macd, rsi], axis = 1)\n",
    "\n",
    "    # grab the last value\n",
    "    last_row = df.iloc[-1]\n",
    "    cap_time = last_row[0]\n",
    "\n",
    "    # hook to discord channel\n",
    "    WEBHOOK_URL = \"https://discord.com/api/webhooks/982327105041875004/w_ume6BIxlHe3C9jgRUrUXWSFn3oiLcvpb2118vsNh8iZdRGHxD5LqYDer2cGwsjd_sL\"\n",
    "\n",
    "    # logic\n",
    "    if last_row[\"ADX_14\"] > 25:\n",
    "        if last_row[\"DMP_14\"] > last_row[\"DMN_14\"]:\n",
    "            message = f\"{cap_time} STRONG UP TREND: {symbol}: The ADX is {last_row['ADX_14']: .2f} +DI {last_row['DMP_14']: .2f} -DI {last_row['DMN_14']: .2f}\"\n",
    "        if last_row[\"DMN_14\"] > last_row[\"DMP_14\"]:\n",
    "            message = f\"{cap_time} STRONG DOWN TREND:{symbol}: The ADX is {last_row['ADX_14']: .2f} +DI {last_row['DMP_14']: .2f} -DI {last_row['DMN_14']: .2f}\"\n",
    "\n",
    "        payload = {\n",
    "            \"username\" : \"alertbot\",\n",
    "            \"content\" : message\n",
    "        }\n",
    "\n",
    "        print(message)\n",
    "        requests.post(WEBHOOK_URL, json = payload)\n",
    "\n",
    "    if last_row[\"ADX_14\"] < 25:\n",
    "        message = f\"{cap_time} no trend:{symbol}: The ADX is {last_row['ADX_14']: .2f} +DI {last_row['DMP_14']: .2f} -DI {last_row['DMN_14']: .2f}\"\n",
    "\n",
    "        payload = {\n",
    "            \"username\" : \"alertbot\",\n",
    "            \"content\" : message\n",
    "        }\n",
    "        \n",
    "        print(message)\n",
    "        requests.post(WEBHOOK_URL, json = payload)"
   ]
  },
  {
   "cell_type": "code",
   "execution_count": null,
   "id": "b441052c-8862-4008-ae25-138acf1d96a6",
   "metadata": {},
   "outputs": [],
   "source": []
  }
 ],
 "metadata": {
  "kernelspec": {
   "display_name": "Python 3 (ipykernel)",
   "language": "python",
   "name": "python3"
  },
  "language_info": {
   "codemirror_mode": {
    "name": "ipython",
    "version": 3
   },
   "file_extension": ".py",
   "mimetype": "text/x-python",
   "name": "python",
   "nbconvert_exporter": "python",
   "pygments_lexer": "ipython3",
   "version": "3.8.13"
  }
 },
 "nbformat": 4,
 "nbformat_minor": 5
}
